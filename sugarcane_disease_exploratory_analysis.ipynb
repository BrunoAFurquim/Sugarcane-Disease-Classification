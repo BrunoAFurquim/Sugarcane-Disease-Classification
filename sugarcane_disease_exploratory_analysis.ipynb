{
  "cells": [
    {
      "cell_type": "markdown",
      "metadata": {
        "id": "view-in-github",
        "colab_type": "text"
      },
      "source": [
        "<a href=\"https://colab.research.google.com/github/BrunoAFurquim/Sugarcane-Disease-Classification/blob/Exploratory-Analysis/sugarcane_disease_exploratory_analysis.ipynb\" target=\"_parent\"><img src=\"https://colab.research.google.com/assets/colab-badge.svg\" alt=\"Open In Colab\"/></a>"
      ]
    },
    {
      "cell_type": "code",
      "execution_count": 80,
      "metadata": {
        "colab": {
          "base_uri": "https://localhost:8080/"
        },
        "id": "O2mTed45jo58",
        "outputId": "08cca352-f2da-4e6c-df30-a3c99e4f6884"
      },
      "outputs": [
        {
          "output_type": "stream",
          "name": "stdout",
          "text": [
            "Requirement already satisfied: opencv-python in /usr/local/lib/python3.11/dist-packages (4.11.0.86)\n",
            "Requirement already satisfied: matplotlib in /usr/local/lib/python3.11/dist-packages (3.10.0)\n",
            "Requirement already satisfied: numpy in /usr/local/lib/python3.11/dist-packages (2.0.2)\n",
            "Requirement already satisfied: contourpy>=1.0.1 in /usr/local/lib/python3.11/dist-packages (from matplotlib) (1.3.1)\n",
            "Requirement already satisfied: cycler>=0.10 in /usr/local/lib/python3.11/dist-packages (from matplotlib) (0.12.1)\n",
            "Requirement already satisfied: fonttools>=4.22.0 in /usr/local/lib/python3.11/dist-packages (from matplotlib) (4.56.0)\n",
            "Requirement already satisfied: kiwisolver>=1.3.1 in /usr/local/lib/python3.11/dist-packages (from matplotlib) (1.4.8)\n",
            "Requirement already satisfied: packaging>=20.0 in /usr/local/lib/python3.11/dist-packages (from matplotlib) (24.2)\n",
            "Requirement already satisfied: pillow>=8 in /usr/local/lib/python3.11/dist-packages (from matplotlib) (11.1.0)\n",
            "Requirement already satisfied: pyparsing>=2.3.1 in /usr/local/lib/python3.11/dist-packages (from matplotlib) (3.2.3)\n",
            "Requirement already satisfied: python-dateutil>=2.7 in /usr/local/lib/python3.11/dist-packages (from matplotlib) (2.8.2)\n",
            "Requirement already satisfied: six>=1.5 in /usr/local/lib/python3.11/dist-packages (from python-dateutil>=2.7->matplotlib) (1.17.0)\n"
          ]
        }
      ],
      "source": [
        "!pip install opencv-python matplotlib numpy"
      ]
    },
    {
      "cell_type": "code",
      "execution_count": 81,
      "metadata": {
        "id": "ibI9SmZwjsM7"
      },
      "outputs": [],
      "source": [
        "import cv2\n",
        "import numpy as np\n",
        "import matplotlib.pyplot as plt\n",
        "import zipfile\n",
        "import seaborn as sns\n",
        "import os\n",
        "from google.colab import files"
      ]
    },
    {
      "cell_type": "code",
      "execution_count": 82,
      "metadata": {
        "colab": {
          "base_uri": "https://localhost:8080/",
          "height": 37
        },
        "collapsed": true,
        "id": "0Ug-Rlzbkc-N",
        "outputId": "14a2134d-2629-45f2-a1b6-a1c4fb08881a"
      },
      "outputs": [
        {
          "output_type": "display_data",
          "data": {
            "text/plain": [
              "<IPython.core.display.HTML object>"
            ],
            "text/html": [
              "\n",
              "     <input type=\"file\" id=\"files-87f3fdec-6534-4200-b26a-ed6745ef9c81\" name=\"files[]\" multiple disabled\n",
              "        style=\"border:none\" />\n",
              "     <output id=\"result-87f3fdec-6534-4200-b26a-ed6745ef9c81\">\n",
              "      Upload widget is only available when the cell has been executed in the\n",
              "      current browser session. Please rerun this cell to enable.\n",
              "      </output>\n",
              "      <script>// Copyright 2017 Google LLC\n",
              "//\n",
              "// Licensed under the Apache License, Version 2.0 (the \"License\");\n",
              "// you may not use this file except in compliance with the License.\n",
              "// You may obtain a copy of the License at\n",
              "//\n",
              "//      http://www.apache.org/licenses/LICENSE-2.0\n",
              "//\n",
              "// Unless required by applicable law or agreed to in writing, software\n",
              "// distributed under the License is distributed on an \"AS IS\" BASIS,\n",
              "// WITHOUT WARRANTIES OR CONDITIONS OF ANY KIND, either express or implied.\n",
              "// See the License for the specific language governing permissions and\n",
              "// limitations under the License.\n",
              "\n",
              "/**\n",
              " * @fileoverview Helpers for google.colab Python module.\n",
              " */\n",
              "(function(scope) {\n",
              "function span(text, styleAttributes = {}) {\n",
              "  const element = document.createElement('span');\n",
              "  element.textContent = text;\n",
              "  for (const key of Object.keys(styleAttributes)) {\n",
              "    element.style[key] = styleAttributes[key];\n",
              "  }\n",
              "  return element;\n",
              "}\n",
              "\n",
              "// Max number of bytes which will be uploaded at a time.\n",
              "const MAX_PAYLOAD_SIZE = 100 * 1024;\n",
              "\n",
              "function _uploadFiles(inputId, outputId) {\n",
              "  const steps = uploadFilesStep(inputId, outputId);\n",
              "  const outputElement = document.getElementById(outputId);\n",
              "  // Cache steps on the outputElement to make it available for the next call\n",
              "  // to uploadFilesContinue from Python.\n",
              "  outputElement.steps = steps;\n",
              "\n",
              "  return _uploadFilesContinue(outputId);\n",
              "}\n",
              "\n",
              "// This is roughly an async generator (not supported in the browser yet),\n",
              "// where there are multiple asynchronous steps and the Python side is going\n",
              "// to poll for completion of each step.\n",
              "// This uses a Promise to block the python side on completion of each step,\n",
              "// then passes the result of the previous step as the input to the next step.\n",
              "function _uploadFilesContinue(outputId) {\n",
              "  const outputElement = document.getElementById(outputId);\n",
              "  const steps = outputElement.steps;\n",
              "\n",
              "  const next = steps.next(outputElement.lastPromiseValue);\n",
              "  return Promise.resolve(next.value.promise).then((value) => {\n",
              "    // Cache the last promise value to make it available to the next\n",
              "    // step of the generator.\n",
              "    outputElement.lastPromiseValue = value;\n",
              "    return next.value.response;\n",
              "  });\n",
              "}\n",
              "\n",
              "/**\n",
              " * Generator function which is called between each async step of the upload\n",
              " * process.\n",
              " * @param {string} inputId Element ID of the input file picker element.\n",
              " * @param {string} outputId Element ID of the output display.\n",
              " * @return {!Iterable<!Object>} Iterable of next steps.\n",
              " */\n",
              "function* uploadFilesStep(inputId, outputId) {\n",
              "  const inputElement = document.getElementById(inputId);\n",
              "  inputElement.disabled = false;\n",
              "\n",
              "  const outputElement = document.getElementById(outputId);\n",
              "  outputElement.innerHTML = '';\n",
              "\n",
              "  const pickedPromise = new Promise((resolve) => {\n",
              "    inputElement.addEventListener('change', (e) => {\n",
              "      resolve(e.target.files);\n",
              "    });\n",
              "  });\n",
              "\n",
              "  const cancel = document.createElement('button');\n",
              "  inputElement.parentElement.appendChild(cancel);\n",
              "  cancel.textContent = 'Cancel upload';\n",
              "  const cancelPromise = new Promise((resolve) => {\n",
              "    cancel.onclick = () => {\n",
              "      resolve(null);\n",
              "    };\n",
              "  });\n",
              "\n",
              "  // Wait for the user to pick the files.\n",
              "  const files = yield {\n",
              "    promise: Promise.race([pickedPromise, cancelPromise]),\n",
              "    response: {\n",
              "      action: 'starting',\n",
              "    }\n",
              "  };\n",
              "\n",
              "  cancel.remove();\n",
              "\n",
              "  // Disable the input element since further picks are not allowed.\n",
              "  inputElement.disabled = true;\n",
              "\n",
              "  if (!files) {\n",
              "    return {\n",
              "      response: {\n",
              "        action: 'complete',\n",
              "      }\n",
              "    };\n",
              "  }\n",
              "\n",
              "  for (const file of files) {\n",
              "    const li = document.createElement('li');\n",
              "    li.append(span(file.name, {fontWeight: 'bold'}));\n",
              "    li.append(span(\n",
              "        `(${file.type || 'n/a'}) - ${file.size} bytes, ` +\n",
              "        `last modified: ${\n",
              "            file.lastModifiedDate ? file.lastModifiedDate.toLocaleDateString() :\n",
              "                                    'n/a'} - `));\n",
              "    const percent = span('0% done');\n",
              "    li.appendChild(percent);\n",
              "\n",
              "    outputElement.appendChild(li);\n",
              "\n",
              "    const fileDataPromise = new Promise((resolve) => {\n",
              "      const reader = new FileReader();\n",
              "      reader.onload = (e) => {\n",
              "        resolve(e.target.result);\n",
              "      };\n",
              "      reader.readAsArrayBuffer(file);\n",
              "    });\n",
              "    // Wait for the data to be ready.\n",
              "    let fileData = yield {\n",
              "      promise: fileDataPromise,\n",
              "      response: {\n",
              "        action: 'continue',\n",
              "      }\n",
              "    };\n",
              "\n",
              "    // Use a chunked sending to avoid message size limits. See b/62115660.\n",
              "    let position = 0;\n",
              "    do {\n",
              "      const length = Math.min(fileData.byteLength - position, MAX_PAYLOAD_SIZE);\n",
              "      const chunk = new Uint8Array(fileData, position, length);\n",
              "      position += length;\n",
              "\n",
              "      const base64 = btoa(String.fromCharCode.apply(null, chunk));\n",
              "      yield {\n",
              "        response: {\n",
              "          action: 'append',\n",
              "          file: file.name,\n",
              "          data: base64,\n",
              "        },\n",
              "      };\n",
              "\n",
              "      let percentDone = fileData.byteLength === 0 ?\n",
              "          100 :\n",
              "          Math.round((position / fileData.byteLength) * 100);\n",
              "      percent.textContent = `${percentDone}% done`;\n",
              "\n",
              "    } while (position < fileData.byteLength);\n",
              "  }\n",
              "\n",
              "  // All done.\n",
              "  yield {\n",
              "    response: {\n",
              "      action: 'complete',\n",
              "    }\n",
              "  };\n",
              "}\n",
              "\n",
              "scope.google = scope.google || {};\n",
              "scope.google.colab = scope.google.colab || {};\n",
              "scope.google.colab._files = {\n",
              "  _uploadFiles,\n",
              "  _uploadFilesContinue,\n",
              "};\n",
              "})(self);\n",
              "</script> "
            ]
          },
          "metadata": {}
        }
      ],
      "source": [
        "from google.colab import files\n",
        "uploaded = files.upload()"
      ]
    },
    {
      "cell_type": "code",
      "execution_count": 83,
      "metadata": {
        "id": "QEokihLlmaSt"
      },
      "outputs": [],
      "source": [
        "from collections import defaultdict\n",
        "\n",
        "class_zips = {\n",
        "    'dried': 'Dried Leaves.zip',\n",
        "    'healthy': 'Healthy Leaves.zip',\n",
        "    'sett_rot': 'Sett Rot.zip',\n",
        "    'viral_disease': 'Viral Disease.zip'\n",
        "}\n",
        "\n",
        "class_stats = defaultdict(lambda: {\n",
        "    'heights': [],\n",
        "    'widths': [],\n",
        "    'means': [],\n",
        "    'stds': [],\n",
        "    'image_paths': [],\n",
        "    'unique_files': set()\n",
        "})"
      ]
    },
    {
      "cell_type": "markdown",
      "metadata": {
        "id": "KcmfIVaTsDqM"
      },
      "source": [
        "Extraindo Zips e Coletando Estatísticas"
      ]
    },
    {
      "cell_type": "code",
      "execution_count": 84,
      "metadata": {
        "id": "NOhrrLh9rDhc"
      },
      "outputs": [],
      "source": [
        "for class_name, zip_file in class_zips.items():\n",
        "    if not os.path.exists(zip_file):\n",
        "        print(f\"AVISO: Arquivo {zip_file} não encontrado. Pulando...\")\n",
        "        continue\n",
        "\n",
        "    extract_path = f'/content/{class_name}'\n",
        "\n",
        "    with zipfile.ZipFile(zip_file, 'r') as zip_ref:\n",
        "        zip_ref.extractall(extract_path)\n",
        "\n",
        "    actual_count = 0\n",
        "\n",
        "    for root, _, files in os.walk(extract_path):\n",
        "        for file in files:\n",
        "            if file.lower().endswith(('.png', '.jpg', '.jpeg')):\n",
        "                img_path = os.path.join(root, file)\n",
        "\n",
        "                if file not in class_stats[class_name]['unique_files']:\n",
        "                    img = cv2.imread(img_path)\n",
        "\n",
        "                    if img is not None:\n",
        "                        if len(img.shape) == 2:\n",
        "                            img = cv2.cvtColor(img, cv2.COLOR_GRAY2BGR)\n",
        "\n",
        "                        h, w, _ = img.shape\n",
        "                        mean, std = cv2.meanStdDev(cv2.cvtColor(img, cv2.COLOR_BGR2RGB))\n",
        "\n",
        "                        class_stats[class_name]['heights'].append(h)\n",
        "                        class_stats[class_name]['widths'].append(w)\n",
        "                        class_stats[class_name]['means'].append(mean)\n",
        "                        class_stats[class_name]['stds'].append(std)\n",
        "                        class_stats[class_name]['image_paths'].append(img_path)\n",
        "                        class_stats[class_name]['unique_files'].add(file)\n",
        "                        class_stats[class_name]['channels'] = 3\n",
        "                        actual_count += 1"
      ]
    },
    {
      "cell_type": "markdown",
      "metadata": {
        "id": "RLZnGv0ssX3t"
      },
      "source": [
        "Função para mostrar estatísticas por classe"
      ]
    },
    {
      "cell_type": "code",
      "execution_count": 85,
      "metadata": {
        "id": "0N0jR8Hkrsyo",
        "colab": {
          "base_uri": "https://localhost:8080/"
        },
        "outputId": "bf6d6014-bece-4656-8fcd-e769e1ee8bbd"
      },
      "outputs": [
        {
          "output_type": "stream",
          "name": "stdout",
          "text": [
            "\n",
            "==================================================\n",
            "Análise da classe: DRIED\n",
            "==================================================\n",
            "Total de imagens: 343\n",
            "Altura média: 1024.00 ± 0.00 px\n",
            "Largura média: 768.00 ± 0.00 px\n",
            "\n",
            "Média de cores (RGB):\n",
            "Red: 166.78 ± 26.52\n",
            "Green: 162.76 ± 28.13\n",
            "Blue: 156.32 ± 30.24\n",
            "\n",
            "==================================================\n",
            "Análise da classe: HEALTHY\n",
            "==================================================\n",
            "Total de imagens: 430\n",
            "Altura média: 1008.37 ± 82.20 px\n",
            "Largura média: 768.00 ± 0.00 px\n",
            "\n",
            "Média de cores (RGB):\n",
            "Red: 99.66 ± 43.81\n",
            "Green: 119.20 ± 47.32\n",
            "Blue: 96.39 ± 49.43\n",
            "\n",
            "==================================================\n",
            "Análise da classe: SETT_ROT\n",
            "==================================================\n",
            "Total de imagens: 652\n",
            "Altura média: 1024.00 ± 0.00 px\n",
            "Largura média: 768.00 ± 0.00 px\n",
            "\n",
            "Média de cores (RGB):\n",
            "Red: 128.70 ± 48.02\n",
            "Green: 119.97 ± 49.76\n",
            "Blue: 113.28 ± 45.96\n",
            "\n",
            "==================================================\n",
            "Análise da classe: VIRAL_DISEASE\n",
            "==================================================\n",
            "Total de imagens: 663\n",
            "Altura média: 950.35 ± 166.05 px\n",
            "Largura média: 768.00 ± 0.00 px\n",
            "\n",
            "Média de cores (RGB):\n",
            "Red: 158.54 ± 35.23\n",
            "Green: 161.26 ± 30.45\n",
            "Blue: 156.83 ± 38.94\n"
          ]
        }
      ],
      "source": [
        "def print_class_stats(stats, class_name):\n",
        "    data = stats[class_name]\n",
        "    print(f\"\\n{'='*50}\")\n",
        "    print(f\"Análise da classe: {class_name.upper()}\")\n",
        "    print(f\"{'='*50}\")\n",
        "    print(f\"Total de imagens: {len(data['unique_files'])}\")\n",
        "    print(f\"Altura média: {np.mean(data['heights']):.2f} ± {np.std(data['heights']):.2f} px\")\n",
        "    print(f\"Largura média: {np.mean(data['widths']):.2f} ± {np.std(data['widths']):.2f} px\")\n",
        "\n",
        "    if data['means']:\n",
        "        means_stack = np.vstack([m.reshape(-1, 3) for m in data['means']])\n",
        "        stds_stack = np.vstack([s.reshape(-1, 3) for s in data['stds']])\n",
        "\n",
        "        print(\"\\nMédia de cores (RGB):\")\n",
        "        for i, color in enumerate(['Red', 'Green', 'Blue']):\n",
        "            print(f\"{color}: {np.mean(means_stack[:,i]):.2f} ± {np.mean(stds_stack[:,i]):.2f}\")\n",
        "\n",
        "for class_name in class_zips.keys():\n",
        "    if class_name in class_stats:\n",
        "        print_class_stats(class_stats, class_name)\n"
      ]
    },
    {
      "cell_type": "markdown",
      "metadata": {
        "id": "H5NJ5BUwwOiJ"
      },
      "source": [
        "Bloxplot de dimensões"
      ]
    },
    {
      "cell_type": "code",
      "execution_count": null,
      "metadata": {
        "id": "ishqk_5cvl_t",
        "collapsed": true
      },
      "outputs": [],
      "source": [
        "import plotly.express as px\n",
        "\n",
        "plt.figure(figsize=(15, 8))\n",
        "for i, class_name in enumerate(class_stats, 1):\n",
        "    if not class_stats[class_name]['image_paths']:\n",
        "        print(f\"Warning: No images found for class {class_name}\")\n",
        "        continue\n",
        "\n",
        "    img_path = class_stats[class_name]['image_paths'][0]\n",
        "\n",
        "    img = cv2.imread(img_path)\n",
        "    if img is None:\n",
        "        print(f\"Warning: Failed to load {img_path}\")\n",
        "        continue\n",
        "\n",
        "    channels = class_stats[class_name].get('channels',\n",
        "                                         img.shape[2] if len(img.shape) == 3 else 1)\n",
        "\n",
        "    plt.subplot(2, 2, i)\n",
        "    if channels == 1:\n",
        "        plt.imshow(img, cmap='gray')\n",
        "    else:\n",
        "        plt.imshow(cv2.cvtColor(img, cv2.COLOR_BGR2RGB))\n",
        "\n",
        "    plt.title(f'Exemplo: {class_name}')\n",
        "    plt.axis('off')\n",
        "\n",
        "plt.tight_layout()\n",
        "plt.show()"
      ]
    },
    {
      "cell_type": "code",
      "source": [
        "import plotly.express as px\n",
        "\n",
        "counts = [len(class_stats[cls]['image_paths']) for cls in class_stats]\n",
        "fig = px.pie(names=list(class_stats.keys()), values=counts, title='Distribuição de Classes')\n",
        "fig.show()"
      ],
      "metadata": {
        "id": "lkjkGyMOmz0b"
      },
      "execution_count": null,
      "outputs": []
    },
    {
      "cell_type": "code",
      "execution_count": null,
      "metadata": {
        "id": "0COEVpYavy60"
      },
      "outputs": [],
      "source": [
        "plt.figure(figsize=(14, 6))\n",
        "plt.subplot(1, 2, 1)\n",
        "all_heights = [class_stats[cls]['heights'] for cls in class_stats]\n",
        "bp = plt.boxplot(all_heights, tick_labels=list(class_stats.keys()), patch_artist=True)\n",
        "\n",
        "colors = ['lightgreen', 'lightblue', 'salmon', 'gold']\n",
        "for patch, color in zip(bp['boxes'], colors):\n",
        "    patch.set_facecolor(color)\n",
        "\n",
        "plt.title('Distribuição de Alturas por Classe\\n(com outliers)', fontsize=12)\n",
        "plt.ylabel('Pixels')\n",
        "plt.xticks(rotation=45)\n",
        "plt.grid(axis='y', linestyle='--', alpha=0.7)"
      ]
    },
    {
      "cell_type": "code",
      "execution_count": null,
      "metadata": {
        "id": "RC4i8t4dvYjZ"
      },
      "outputs": [],
      "source": [
        "plt.figure(figsize=(12, 6))\n",
        "plt.subplot(1, 2, 2)\n",
        "\n",
        "intensities_rgb = {cls: {'R': [], 'G': [], 'B': []} for cls in class_stats}\n",
        "\n",
        "for cls in class_stats:\n",
        "    means = np.concatenate(class_stats[cls]['means'])\n",
        "\n",
        "    if means.shape[1] == 3:\n",
        "        intensities_rgb[cls]['R'] = means[:, 0]\n",
        "        intensities_rgb[cls]['G'] = means[:, 1]\n",
        "        intensities_rgb[cls]['B'] = means[:, 2]\n",
        "    else:\n",
        "        intensities_rgb[cls]['R'] = means.flatten()\n",
        "        intensities_rgb[cls]['G'] = means.flatten()\n",
        "        intensities_rgb[cls]['B'] = means.flatten()\n",
        "\n",
        "colors = ['red', 'green', 'blue']\n",
        "box_width = 0.15\n",
        "spacing = 0.2\n",
        "class_positions = np.arange(len(class_stats))\n",
        "\n",
        "for i, channel in enumerate(['R', 'G', 'B']):\n",
        "    data = [intensities_rgb[cls][channel] for cls in class_stats]\n",
        "    positions = class_positions + i * spacing\n",
        "\n",
        "    bp = plt.boxplot(data, positions=positions, widths=box_width,\n",
        "                    patch_artist=True,\n",
        "                    tick_labels=[cls if i == 1 else '' for cls in class_stats])\n",
        "\n",
        "    for box in bp['boxes']:\n",
        "        box.set_facecolor(colors[i])\n",
        "\n",
        "plt.title('Intensidade por Canal RGB e Classe', fontsize=12)\n",
        "plt.ylabel('Intensidade Média')\n",
        "plt.xticks(class_positions + spacing, class_stats.keys(), rotation=45)\n",
        "plt.grid(axis='y', linestyle='--', alpha=0.7)\n",
        "\n",
        "legend_patches = [plt.Rectangle((0,0), 1, 1, fc=color)\n",
        "                 for color in colors]\n",
        "plt.legend(legend_patches, ['Red', 'Green', 'Blue'], loc='upper right')\n",
        "\n",
        "plt.tight_layout()\n",
        "plt.show()"
      ]
    },
    {
      "cell_type": "markdown",
      "metadata": {
        "id": "LLobYJf_vmvJ"
      },
      "source": [
        "# Análises de Distribuição de Canais RGB"
      ]
    },
    {
      "cell_type": "code",
      "source": [
        "plt.figure(figsize=(15, 10))\n",
        "for i, cls in enumerate(class_stats.keys()):\n",
        "    means = np.concatenate(class_stats[cls]['means'])\n",
        "\n",
        "    plt.subplot(2, 2, i+1)\n",
        "\n",
        "    if means.shape[1] == 3:\n",
        "        sns.kdeplot(means[:, 0], label='Red', color='r')\n",
        "        sns.kdeplot(means[:, 1], label='Green', color='g')\n",
        "        sns.kdeplot(means[:, 2], label='Blue', color='b')\n",
        "    else:\n",
        "        sns.kdeplot(means.flatten(), label='Gray', color='gray')\n",
        "\n",
        "    plt.title(f'Distribuição de Cores - {cls}')\n",
        "    plt.legend()\n",
        "    plt.xlabel('Intensidade do Pixel')\n",
        "    plt.ylabel('Densidade')\n",
        "\n",
        "plt.tight_layout()\n",
        "plt.show()"
      ],
      "metadata": {
        "id": "BPMGk9Ccez4k"
      },
      "execution_count": null,
      "outputs": []
    },
    {
      "cell_type": "code",
      "source": [
        "plt.figure(figsize=(12,8))\n",
        "for i, cls in enumerate(class_stats):\n",
        "    img = cv2.imread(class_stats[cls]['image_paths'][0])\n",
        "    img_rgb = cv2.cvtColor(img, cv2.COLOR_BGR2RGB)\n",
        "\n",
        "    plt.subplot(2,2,i+1)\n",
        "    for j, color in enumerate(['r','g','b']):\n",
        "        hist = cv2.calcHist([img_rgb], [j], None, [256], [0,256])\n",
        "        plt.plot(hist, color=color)\n",
        "    plt.title(f'Histograma - {cls}')\n",
        "plt.tight_layout()"
      ],
      "metadata": {
        "id": "uOr3q5YEnabN"
      },
      "execution_count": null,
      "outputs": []
    },
    {
      "cell_type": "code",
      "source": [
        "import pandas as pd\n",
        "import numpy as np\n",
        "import seaborn as sns\n",
        "import matplotlib.pyplot as plt\n",
        "\n",
        "data = []\n",
        "for cls in class_stats:\n",
        "    means = np.concatenate(class_stats[cls]['means'])\n",
        "\n",
        "    if means.shape[1] == 1:\n",
        "        for m in means:\n",
        "            data.append({'Class': cls, 'R': m[0], 'G': m[0], 'B': m[0]})\n",
        "    else:\n",
        "        for m in means:\n",
        "            data.append({'Class': cls, 'R': m[0], 'G': m[1], 'B': m[2]})\n",
        "\n",
        "df = pd.DataFrame(data)\n",
        "\n",
        "g = sns.pairplot(df, hue='Class', palette='viridis')\n",
        "g.fig.suptitle(\"Distribuição das Intensidades de Cor por Canal RGB\", y=1.02)\n",
        "\n",
        "plt.show()"
      ],
      "metadata": {
        "id": "k9hOa__FpYev"
      },
      "execution_count": null,
      "outputs": []
    },
    {
      "cell_type": "markdown",
      "source": [
        "# Análise de Textura"
      ],
      "metadata": {
        "id": "9MEVJNJTp6Qc"
      }
    },
    {
      "cell_type": "code",
      "source": [
        "from skimage.feature import graycomatrix, graycoprops\n",
        "\n",
        "def calc_texture(img):\n",
        "    gray = cv2.cvtColor(img, cv2.COLOR_BGR2GRAY)\n",
        "    glcm = graycomatrix(gray, distances=[1], angles=[0], levels=256)\n",
        "    return graycoprops(glcm, 'contrast')[0,0], graycoprops(glcm, 'energy')[0,0]\n",
        "\n",
        "# Aplicar em uma imagem por classe\n",
        "for cls in class_stats:\n",
        "    img = cv2.imread(class_stats[cls]['image_paths'][0])\n",
        "    contrast, energy = calc_texture(img)\n",
        "    print(f\"{cls}: Contraste={contrast:.2f}, Energia={energy:.2f}\")"
      ],
      "metadata": {
        "id": "GL56ibYJnRTf"
      },
      "execution_count": null,
      "outputs": []
    },
    {
      "cell_type": "markdown",
      "source": [
        "# Análise de Bordas"
      ],
      "metadata": {
        "id": "dz7Mb_K4p_bz"
      }
    },
    {
      "cell_type": "code",
      "source": [
        "def analyze_edges(img_path):\n",
        "    img = cv2.imread(img_path, 0)\n",
        "    edges = cv2.Canny(img, 100, 200)\n",
        "    edge_pixels = np.sum(edges > 0) / edges.size\n",
        "    return edge_pixels\n",
        "\n",
        "# Calcular para 50 imagens de cada classe\n",
        "for cls in class_stats:\n",
        "    edge_density = [analyze_edges(p) for p in class_stats[cls]['image_paths'][:50]]\n",
        "    print(f\"{cls}: Densidade média de bordas = {np.mean(edge_density):.2%}\")"
      ],
      "metadata": {
        "id": "PSwNRCRsngec"
      },
      "execution_count": null,
      "outputs": []
    },
    {
      "cell_type": "markdown",
      "source": [
        "# Análise de Contraste"
      ],
      "metadata": {
        "id": "sh3ypoTxqHnL"
      }
    },
    {
      "cell_type": "code",
      "source": [
        "import pandas as pd\n",
        "\n",
        "def calc_brightness_contrast(img):\n",
        "    lab = cv2.cvtColor(img, cv2.COLOR_BGR2LAB)\n",
        "    l, a, b = cv2.split(lab)\n",
        "    return np.mean(l), np.std(l)\n",
        "\n",
        "results = {}\n",
        "for cls in class_stats:\n",
        "    img = cv2.imread(class_stats[cls]['image_paths'][0])\n",
        "    brightness, contrast = calc_brightness_contrast(img)\n",
        "    results[cls] = {'Brilho': brightness, 'Contraste': contrast}\n",
        "\n",
        "pd.DataFrame(results).T.plot(kind='bar')"
      ],
      "metadata": {
        "id": "W40PMfwFn3FT"
      },
      "execution_count": null,
      "outputs": []
    }
  ],
  "metadata": {
    "colab": {
      "provenance": [],
      "authorship_tag": "ABX9TyN19vi+XOEHP6C6ixgkHI69",
      "include_colab_link": true
    },
    "kernelspec": {
      "display_name": "Python 3",
      "name": "python3"
    },
    "language_info": {
      "name": "python"
    }
  },
  "nbformat": 4,
  "nbformat_minor": 0
}